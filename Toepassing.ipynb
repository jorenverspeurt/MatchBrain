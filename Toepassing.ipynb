{
 "cells": [
  {
   "cell_type": "code",
   "execution_count": 1,
   "metadata": {
    "collapsed": false
   },
   "outputs": [
    {
     "name": "stdout",
     "output_type": "stream",
     "text": [
      "Using Theano backend.\n"
     ]
    },
    {
     "name": "stderr",
     "output_type": "stream",
     "text": [
      "Using gpu device 0: GeForce GTX 970M\n"
     ]
    }
   ],
   "source": [
    "from ml.logutils import *\n",
    "from ml.processing import *\n",
    "from deep_dict_utils import *\n",
    "import numpy as np\n",
    "from ezprettyjson import prettyjson\n",
    "import gzip, cPickle\n",
    "import keras.layers.containers as containers\n",
    "from keras.layers.core import Dense, Dropout\n",
    "from keras.layers.noise import GaussianNoise\n",
    "from keras.models import Sequential\n",
    "from keras.regularizers import WeightRegularizer\n",
    "from keras.utils import np_utils\n",
    "import pandas as pd\n",
    "import matplotlib.pyplot as mpp\n",
    "import seaborn as sns"
   ]
  },
  {
   "cell_type": "code",
   "execution_count": 2,
   "metadata": {
    "collapsed": true
   },
   "outputs": [],
   "source": [
    "np.set_printoptions(precision = 3, suppress = True)"
   ]
  },
  {
   "cell_type": "code",
   "execution_count": 3,
   "metadata": {
    "collapsed": true
   },
   "outputs": [],
   "source": [
    "joren_logs = loadall('logs/joren')"
   ]
  },
  {
   "cell_type": "code",
   "execution_count": 4,
   "metadata": {
    "collapsed": false
   },
   "outputs": [],
   "source": [
    "handled = {fname: filter(None, map(handle_data_entry, fc))\n",
    "           for (fname, fc) in joren_logs.iteritems()}\n",
    "dropped = {fname: reduce(change_drop, fc, (phase_names[0], drop_seconds, []))[2]\n",
    "           for (fname, fc) in handled.iteritems()}\n",
    "shifted = {fname: [e\n",
    "                   for l in map(lambda c,n: smart_shift(c, n, shift),\n",
    "                               entries[0:-1],\n",
    "                               entries[1:])\n",
    "                   for e in l]\n",
    "           for fname, entries in dropped.iteritems()}\n",
    "transformed = {fname: map(lambda r: dict(r, **{ 'raw': merge(*map(lambda f: f(fix_length(r['raw'], 512)),\n",
    "                                                                  [wavelet_trans, fourier_trans, extremes])) }),\n",
    "                          fc)\n",
    "               for (fname, fc) in shifted.iteritems() }"
   ]
  },
  {
   "cell_type": "code",
   "execution_count": 5,
   "metadata": {
    "collapsed": false
   },
   "outputs": [],
   "source": [
    "nfs = [('raw', list), ('bands', detvalues), ('eSense', detvalues)]\n",
    "pnames = {pname_for(fname) for fname in transformed.iterkeys()}\n",
    "perplayer = {pname: sum(((fc if isinstance(fc,list) else [fc])\n",
    "                         for (fname, fc) in transformed.iteritems()\n",
    "                         if pname_for(fname) == pname), \n",
    "                        [])\n",
    "             for pname in pnames }\n",
    "perplayer = {pname: dict({'stats': getstats({pname: pc}, nfs)},\n",
    "                         **{fname: {'data': fc\n",
    "                                   ,'stats': getstats({fname: fc}, nfs)}\n",
    "                            for (fname, fc) in transformed.iteritems()\n",
    "                            if pname_for(fname) == pname})\n",
    "             for (pname, pc) in perplayer.iteritems()}\n",
    "with gzip.open('ml/unscaled.pkl.gz', 'r') as f:\n",
    "    allstats = cPickle.load(f)['stats']\n",
    "result = {'stats': allstats, 'players': perplayer}\n",
    "scaled = {pname: normalized_by(fe['data'], result['stats'])\n",
    "          for (pname, pe) in result['players'].iteritems()\n",
    "               for (fname, fe) in pe.iteritems()\n",
    "               if fname != 'stats'}"
   ]
  },
  {
   "cell_type": "code",
   "execution_count": 24,
   "metadata": {
    "collapsed": false
   },
   "outputs": [],
   "source": [
    "layer_sizes = [100, 64, 32, 16]\n",
    "sigma_base = 0.0\n",
    "sigma_fact = 1.0\n",
    "model = Sequential()\n",
    "#if l1 != 0 or l2 != 0:\n",
    "#    regularizer = WeightRegularizer(l1=l1, l2=l2)\n",
    "#else:\n",
    "#    regularizer = None\n",
    "for (i, (n_in, n_out)) in enumerate(zip(layer_sizes[:-1], layer_sizes[1:])):\n",
    "    model.add(GaussianNoise(sigma_base*(sigma_fact**-i), \n",
    "                            input_shape = [layer_sizes[i]]))\n",
    "    model.add(Dense(input_dim = n_in, \n",
    "                    output_dim = n_out, \n",
    "                    activation = 'sigmoid', \n",
    "                    W_regularizer = None))\n",
    "#    if drop_rate > 0 and mod_use_drop:\n",
    "#        model.add(Dropout(drop_rate, \n",
    "#                          input_shape = (n_in,)))\n",
    "model.add(Dense(input_dim = layer_sizes[-1],\n",
    "                output_dim = len(phase_names),\n",
    "                activation = 'softmax',\n",
    "                W_regularizer = None))\n",
    "model.load_weights('ml/model-snapshots/cp-160819-001547-340-0.5504.hdf5')\n",
    "model.compile(loss='categorical_crossentropy', optimizer='adadelta')"
   ]
  },
  {
   "cell_type": "code",
   "execution_count": 7,
   "metadata": {
    "collapsed": false
   },
   "outputs": [],
   "source": [
    "train_labels, train_data = zip(*[(e['phase'], e['raw'])\n",
    "                                 for e in scaled['joren-train']])\n",
    "play_labels, play_data = zip(*[(e['phase'], e['raw'])\n",
    "                               for e in scaled['joren-justplay']])"
   ]
  },
  {
   "cell_type": "code",
   "execution_count": 19,
   "metadata": {
    "collapsed": false
   },
   "outputs": [],
   "source": [
    "df = pd.DataFrame.from_dict(dmap(lambda l: reduce(lambda (c,l1), l2: (c-1,l1) if c > 0 else (32,l1+[max(list(l2))]), \n",
    "                                                  l, \n",
    "                                                  (0,[]))[1], \n",
    "                                 reduce(smart_combine, \n",
    "                                        map(get('bands'), \n",
    "                                            scaled['joren-train']))))\n",
    "df.plot(kind='line')\n",
    "mpp.show()"
   ]
  },
  {
   "cell_type": "code",
   "execution_count": 28,
   "metadata": {
    "collapsed": false
   },
   "outputs": [
    {
     "name": "stdout",
     "output_type": "stream",
     "text": [
      "1824/1824 [==============================] - 0s     \n",
      "[1.5350387275480388, 0.36842105263157893]\n",
      "[ 672.  250.   52.  349.  501.]\n",
      "1728/1728 [==============================] - 0s     \n",
      "[1.1795333568696622, 0.69270833333333337]\n",
      "[   55.  1197.   354.   112.    10.]\n",
      "1728/1728 [==============================] - 0s     \n",
      "[1.0092426070736513, 0.62442129629629628]\n",
      "[   21.   598.  1079.    26.     4.]\n",
      "2656/2656 [==============================] - 0s     \n",
      "[1.7436791323574192, 0.22853915662650603]\n",
      "[ 363.  866.  700.  607.  120.]\n",
      "3584/3584 [==============================] - 0s     \n",
      "[1.8501888427085109, 0.086216517857142863]\n",
      "[  258.  1216.   890.   911.   309.]\n"
     ]
    }
   ],
   "source": [
    "data_by_label = {}\n",
    "for (l, d) in zip(train_labels, train_data):\n",
    "    data_by_label.setdefault(l, []).append(d)\n",
    "phl = 5\n",
    "eye = np.identity(phl)\n",
    "tc  = np_utils.to_categorical\n",
    "for key in ['DISTRACT', 'RELAXOPEN', 'RELAXCLOSED', 'CASUAL', 'INTENSE']:\n",
    "    arr = np.array(data_by_label[key])\n",
    "    eva = model.evaluate(arr\n",
    "                        ,tc(map(lambda n: phase_names.index(n)\n",
    "                               ,list(repeat(key, len(arr))))\n",
    "                        ,phl)\n",
    "                        ,batch_size=100\n",
    "                        ,show_accuracy=True)\n",
    "    counts = np.sum(map(lambda p: eye[np.argmax(p)]\n",
    "                       ,model.predict(arr, batch_size=100))\n",
    "                   ,axis=0)\n",
    "    print(eva)\n",
    "    print(counts)"
   ]
  },
  {
   "cell_type": "code",
   "execution_count": 67,
   "metadata": {
    "collapsed": false
   },
   "outputs": [],
   "source": [
    "def exp_smooth(l):\n",
    "    return reduce(lambda ov, cv: ov+[0.8*ov[-1]+0.2*cv], l, [np.mean(l)])\n",
    "def mean_per(l, n = 32):\n",
    "    interm = [l[i:min((i+n,len(l)))] for i in xrange(0, len(l), n)]\n",
    "    return map(np.mean, interm)\n",
    "predictions = model.predict(np.array(train_data))\n",
    "labelled_p = map(lambda p: {'DISTRACT': p[0]\n",
    "                           ,'RELAXOPEN': p[1]\n",
    "                           ,'RELAXCLOSED': p[2]\n",
    "                           ,'CASUAL': p[3]\n",
    "                           ,'INTENSE': p[4]},\n",
    "                 predictions)\n",
    "lp = dmap(chain(mean_per, exp_smooth), reduce(smart_combine, labelled_p))\n",
    "pd.DataFrame.from_dict(lp).plot(figsize=(11,7))\n",
    "mpp.title('Voorspellingen voor protocolsessie met nieuwe proefpersoon (met exponential smoothing)')\n",
    "mpp.xlabel('Tijd (in seconden)')\n",
    "mpp.ylabel('Zekerheid')\n",
    "mpp.tight_layout()\n",
    "mpp.show()"
   ]
  },
  {
   "cell_type": "code",
   "execution_count": 37,
   "metadata": {
    "collapsed": true
   },
   "outputs": [],
   "source": [
    "predictions = model.predict(np.array(play_data))\n",
    "labelled_p = map(lambda p: {'DISTRACT': 1 if p[0] == max(p) else 0\n",
    "                           ,'RELAXOPEN': 1 if p[1] == max(p) else 0\n",
    "                           ,'RELAXCLOSED': 1 if p[2] == max(p) else 0\n",
    "                           ,'CASUAL': 1 if p[3] == max(p) else 0\n",
    "                           ,'INTENSE': 1 if p[4] == max(p) else 0},\n",
    "                 predictions)\n",
    "pd.DataFrame.from_dict(reduce(smart_combine, labelled_p)).plot()\n",
    "mpp.title('')\n",
    "mpp.show()"
   ]
  },
  {
   "cell_type": "code",
   "execution_count": 49,
   "metadata": {
    "collapsed": false
   },
   "outputs": [],
   "source": [
    "predictions = model.predict(np.array(play_data))\n",
    "labelled_p = map(lambda p: map(lambda pi: (pi,pi,pi), p),\n",
    "                 predictions)\n",
    "lsqrt = int(math.floor(math.sqrt(len(labelled_p)))+1)\n",
    "fill = [[(0,0,0)]*5]*(lsqrt**2-len(labelled_p))\n",
    "split = [(labelled_p+fill)[i:i+lsqrt] for i in xrange(0, lsqrt**2, lsqrt)]\n",
    "flipped = map(lambda l: zip(*l), split)\n",
    "mpp.imshow(np.array(reduce(smart_combine,flipped)))\n",
    "mpp.show()"
   ]
  },
  {
   "cell_type": "code",
   "execution_count": null,
   "metadata": {
    "collapsed": true
   },
   "outputs": [],
   "source": []
  }
 ],
 "metadata": {
  "kernelspec": {
   "display_name": "Python 2",
   "language": "python",
   "name": "python2"
  },
  "language_info": {
   "codemirror_mode": {
    "name": "ipython",
    "version": 2
   },
   "file_extension": ".py",
   "mimetype": "text/x-python",
   "name": "python",
   "nbconvert_exporter": "python",
   "pygments_lexer": "ipython2",
   "version": "2.7.12"
  }
 },
 "nbformat": 4,
 "nbformat_minor": 0
}
